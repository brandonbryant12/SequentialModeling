{
 "cells": [
  {
   "cell_type": "code",
   "execution_count": 1,
   "metadata": {},
   "outputs": [],
   "source": [
    "import numpy as np"
   ]
  },
  {
   "cell_type": "code",
   "execution_count": 19,
   "metadata": {},
   "outputs": [],
   "source": [
    "#Training data\n",
    "X = np.array([[0,0,1],\n",
    "            [0,1,1],\n",
    "            [1,0,1],\n",
    "             [1,1,1]])\n",
    "y = np.array([[0],\n",
    "            [1],\n",
    "            [1],\n",
    "            [0]])\n",
    "np.random.seed(1)"
   ]
  },
  {
   "cell_type": "code",
   "execution_count": 20,
   "metadata": {},
   "outputs": [
    {
     "data": {
      "text/plain": [
       "array([[0],\n",
       "       [1],\n",
       "       [1],\n",
       "       [0]])"
      ]
     },
     "execution_count": 20,
     "metadata": {},
     "output_type": "execute_result"
    }
   ],
   "source": [
    "y"
   ]
  },
  {
   "cell_type": "code",
   "execution_count": 27,
   "metadata": {},
   "outputs": [
    {
     "data": {
      "text/plain": [
       "array([[0, 0, 1],\n",
       "       [0, 1, 1],\n",
       "       [1, 0, 1],\n",
       "       [1, 1, 1]])"
      ]
     },
     "execution_count": 27,
     "metadata": {},
     "output_type": "execute_result"
    }
   ],
   "source": [
    "X"
   ]
  },
  {
   "cell_type": "code",
   "execution_count": 22,
   "metadata": {},
   "outputs": [],
   "source": [
    "#Randomly intilize weights \n",
    "#Hidden layer1 has 3 inputs and 4 neurons/outputs\n",
    "weights0 = 2*np.random.random((3,4))-1\n",
    "#Hidden layer2 has 4 inputs and 1 neuron/output\n",
    "weights1 = 2*np.random.random((4,1))-1"
   ]
  },
  {
   "cell_type": "code",
   "execution_count": 23,
   "metadata": {},
   "outputs": [
    {
     "data": {
      "text/plain": [
       "array([[-0.16595599,  0.44064899, -0.99977125, -0.39533485],\n",
       "       [-0.70648822, -0.81532281, -0.62747958, -0.30887855],\n",
       "       [-0.20646505,  0.07763347, -0.16161097,  0.370439  ]])"
      ]
     },
     "execution_count": 23,
     "metadata": {},
     "output_type": "execute_result"
    }
   ],
   "source": [
    "weights0"
   ]
  },
  {
   "cell_type": "code",
   "execution_count": 24,
   "metadata": {},
   "outputs": [
    {
     "data": {
      "text/plain": [
       "array([[-0.5910955 ],\n",
       "       [ 0.75623487],\n",
       "       [-0.94522481],\n",
       "       [ 0.34093502]])"
      ]
     },
     "execution_count": 24,
     "metadata": {},
     "output_type": "execute_result"
    }
   ],
   "source": [
    "weights1"
   ]
  },
  {
   "cell_type": "code",
   "execution_count": 25,
   "metadata": {},
   "outputs": [],
   "source": [
    "#Sigmoid function\n",
    "def sigmoid( x, deriv=False):\n",
    "    if deriv == True:\n",
    "        return x*(1-x)\n",
    "    return 1/(1+np.exp(-x))"
   ]
  },
  {
   "cell_type": "code",
   "execution_count": 26,
   "metadata": {},
   "outputs": [
    {
     "name": "stdout",
     "output_type": "stream",
     "text": [
      "Error: 0.4964100319027255\n",
      "Error: 0.042888017000115804\n",
      "Error: 0.02409899422852161\n",
      "Error: 0.018110652146797836\n",
      "Error: 0.014987616272210912\n",
      "Error: 0.013014490538142583\n",
      "Error: 0.011631240177791713\n",
      "Error: 0.010595837575746213\n"
     ]
    }
   ],
   "source": [
    "#training the network\n",
    "\n",
    "for i in range(80000):\n",
    "    #Foward Propagation\n",
    "    #Input layer\n",
    "    layer0 = X\n",
    "    #Hidden layer\n",
    "    layer1 = sigmoid(np.dot(layer0,weights0))\n",
    "    #Output layer\n",
    "    layer2 = sigmoid(np.dot(layer1,weights1))\n",
    "    \n",
    "    #calculate error -> just used a simple cost function \n",
    "    layer_2_error = y-layer2\n",
    "    \n",
    "    if i%10000 == 0:\n",
    "        print(\"Error: {}\".format(str(np.mean(np.absolute(layer_2_error)))))\n",
    "        \n",
    "    #Back Propagation\n",
    "    layer2_delta = layer_2_error*sigmoid(layer2,deriv=True)\n",
    "    #print(layer2_delta)\n",
    "    layer1_error = layer2_delta.dot(weights1.T)\n",
    "    #print(layer1_error)\n",
    "    layer1_delta = layer1_error*sigmoid(layer1, deriv=True)\n",
    "    #print(layer1_delta)\n",
    "    \n",
    "    #Update the weights \n",
    "    learningRate = .1\n",
    "    weights1 = weights1+layer1.T.dot(layer2_delta)*learningRate\n",
    "    weights0 = weights0+layer0.T.dot(layer1_delta)*learningRate\n",
    "    \n",
    "    "
   ]
  },
  {
   "cell_type": "code",
   "execution_count": 10,
   "metadata": {},
   "outputs": [
    {
     "data": {
      "text/plain": [
       "array([[6.12903942e-01, 1.45168200e-01, 9.14695069e-01, 9.93587617e-01],\n",
       "       [2.20100125e-01, 7.55049236e-04, 1.91707686e-02, 8.81134673e-01],\n",
       "       [9.87129756e-01, 8.66007539e-01, 2.60148164e-02, 7.72181015e-01],\n",
       "       [9.31837582e-01, 2.79537908e-02, 4.86845534e-05, 1.39529364e-01]])"
      ]
     },
     "execution_count": 10,
     "metadata": {},
     "output_type": "execute_result"
    }
   ],
   "source": [
    "layer1"
   ]
  },
  {
   "cell_type": "code",
   "execution_count": 34,
   "metadata": {},
   "outputs": [],
   "source": [
    "X_test_input = np.array([[0,1,1],\n",
    "            [1,0,1],\n",
    "             [0,0,1]])"
   ]
  },
  {
   "cell_type": "code",
   "execution_count": 35,
   "metadata": {},
   "outputs": [],
   "source": [
    "layer0 = X_test_input\n",
    "layer1 = sigmoid(np.dot(layer0,weights0))\n",
    "test_output = sigmoid(np.dot(layer1,weights1))"
   ]
  },
  {
   "cell_type": "code",
   "execution_count": 36,
   "metadata": {},
   "outputs": [
    {
     "data": {
      "text/plain": [
       "array([[0.98974527],\n",
       "       [0.99107044],\n",
       "       [0.00801053]])"
      ]
     },
     "execution_count": 36,
     "metadata": {},
     "output_type": "execute_result"
    }
   ],
   "source": [
    "test_output"
   ]
  },
  {
   "cell_type": "code",
   "execution_count": null,
   "metadata": {
    "collapsed": true
   },
   "outputs": [],
   "source": []
  }
 ],
 "metadata": {
  "kernelspec": {
   "display_name": "Python 3",
   "language": "python",
   "name": "python3"
  },
  "language_info": {
   "codemirror_mode": {
    "name": "ipython",
    "version": 3
   },
   "file_extension": ".py",
   "mimetype": "text/x-python",
   "name": "python",
   "nbconvert_exporter": "python",
   "pygments_lexer": "ipython3",
   "version": "3.7.0a1"
  }
 },
 "nbformat": 4,
 "nbformat_minor": 2
}
